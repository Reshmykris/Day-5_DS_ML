{
  "nbformat": 4,
  "nbformat_minor": 0,
  "metadata": {
    "colab": {
      "name": "Day5_DS_ML.ipynb",
      "provenance": [],
      "authorship_tag": "ABX9TyP4/ETdbaCFskwvL8hWLDZZ",
      "include_colab_link": true
    },
    "kernelspec": {
      "name": "python3",
      "display_name": "Python 3"
    },
    "language_info": {
      "name": "python"
    }
  },
  "cells": [
    {
      "cell_type": "markdown",
      "metadata": {
        "id": "view-in-github",
        "colab_type": "text"
      },
      "source": [
        "<a href=\"https://colab.research.google.com/github/Reshmykris/Day-5_DS_ML/blob/main/Day5_DS_ML.ipynb\" target=\"_parent\"><img src=\"https://colab.research.google.com/assets/colab-badge.svg\" alt=\"Open In Colab\"/></a>"
      ]
    },
    {
      "cell_type": "code",
      "metadata": {
        "id": "R2R9qG1RTX3S"
      },
      "source": [
        "import numpy as np\n",
        "import matplotlib.pyplot as plt\n",
        "import pandas as pd"
      ],
      "execution_count": 1,
      "outputs": []
    },
    {
      "cell_type": "code",
      "metadata": {
        "id": "mmDtVMm0UX2Z"
      },
      "source": [
        "dataset = pd.read_csv(\"/content/Salary_Data.csv\")"
      ],
      "execution_count": 2,
      "outputs": []
    },
    {
      "cell_type": "code",
      "metadata": {
        "id": "HPTGnbk4UfE2"
      },
      "source": [
        "x = dataset.iloc[:, :-1].values\n",
        "y = dataset.iloc[: , -1].values"
      ],
      "execution_count": 4,
      "outputs": []
    },
    {
      "cell_type": "code",
      "metadata": {
        "id": "kwPsLyaqUyVQ"
      },
      "source": [
        "#Split the data set into test and train set\n",
        "\n",
        "from sklearn.model_selection import train_test_split\n",
        "\n",
        "x_train, x_test, y_train, y_test = train_test_split(x, y, test_size = 1/3)"
      ],
      "execution_count": 5,
      "outputs": []
    },
    {
      "cell_type": "code",
      "metadata": {
        "colab": {
          "base_uri": "https://localhost:8080/"
        },
        "id": "27_B7GN_VSsp",
        "outputId": "e4cd4ced-de8d-46b6-ab3f-9e253eb203d6"
      },
      "source": [
        "print(x_train)\n",
        "print(x_test)\n",
        "print(y_train)\n",
        "print(y_test)"
      ],
      "execution_count": 6,
      "outputs": [
        {
          "output_type": "stream",
          "text": [
            "[[ 1.5]\n",
            " [ 5.3]\n",
            " [ 6.8]\n",
            " [ 9.6]\n",
            " [ 5.1]\n",
            " [ 4.1]\n",
            " [ 4.5]\n",
            " [10.3]\n",
            " [ 2.2]\n",
            " [ 4.9]\n",
            " [ 3.2]\n",
            " [ 8.7]\n",
            " [ 5.9]\n",
            " [ 2.9]\n",
            " [ 3.7]\n",
            " [ 8.2]\n",
            " [ 3.2]\n",
            " [ 1.3]\n",
            " [ 3. ]\n",
            " [ 7.9]]\n",
            "[[ 7.1]\n",
            " [ 9.5]\n",
            " [ 4. ]\n",
            " [ 2. ]\n",
            " [10.5]\n",
            " [ 6. ]\n",
            " [ 4. ]\n",
            " [ 9. ]\n",
            " [ 3.9]\n",
            " [ 1.1]]\n",
            "[ 37731  83088  91738 112635  66029  57081  61111 122391  39891  67938\n",
            "  54445 109431  81363  56642  57189 113812  64445  46205  60150 101302]\n",
            "[ 98273 116969  56957  43525 121872  93940  55794 105582  63218  39343]\n"
          ],
          "name": "stdout"
        }
      ]
    },
    {
      "cell_type": "code",
      "metadata": {
        "colab": {
          "base_uri": "https://localhost:8080/"
        },
        "id": "5E1mwD0JVcH5",
        "outputId": "597f15c7-93e0-4371-8384-75a6ce52d246"
      },
      "source": [
        "#Impl simple linear regression model by training\n",
        "\n",
        "from sklearn.linear_model import LinearRegression\n",
        "\n",
        "slr = LinearRegression()\n",
        "slr.fit(x_train, y_train)"
      ],
      "execution_count": 10,
      "outputs": [
        {
          "output_type": "execute_result",
          "data": {
            "text/plain": [
              "LinearRegression(copy_X=True, fit_intercept=True, n_jobs=None, normalize=False)"
            ]
          },
          "metadata": {
            "tags": []
          },
          "execution_count": 10
        }
      ]
    },
    {
      "cell_type": "code",
      "metadata": {
        "colab": {
          "base_uri": "https://localhost:8080/",
          "height": 295
        },
        "id": "XdMfoSTbWJcZ",
        "outputId": "c716e602-843f-4244-97d8-43fdbf6876c3"
      },
      "source": [
        "#Visualize the training set data\n",
        "\n",
        "plt.scatter(x_train, y_train, color = \"red\")\n",
        "plt.plot(x_train, slr.predict(x_train), color = 'green')\n",
        "plt.title(\"Simple Linear Regression Model\")\n",
        "plt.xlabel(\"Experience\")\n",
        "plt.ylabel(\"Salary\")\n",
        "plt.show()"
      ],
      "execution_count": 15,
      "outputs": [
        {
          "output_type": "display_data",
          "data": {
            "image/png": "[encoded data removed]",
            "text/plain": [
              "<Figure size 432x288 with 1 Axes>"
            ]
          },
          "metadata": {
            "tags": [],
            "needs_background": "light"
          }
        }
      ]
    },
    {
      "cell_type": "code",
      "metadata": {
        "colab": {
          "base_uri": "https://localhost:8080/",
          "height": 295
        },
        "id": "bKaSVUdLX9mZ",
        "outputId": "0fd56531-87fa-4137-92af-c55aeda6ada3"
      },
      "source": [
        "#Visualize the training set data\n",
        "\n",
        "plt.scatter(x_test, y_test, color = \"red\")\n",
        "plt.plot(x_train, slr.predict(x_train), color = 'green')\n",
        "plt.title(\"Simple Linear Regression Model\")\n",
        "plt.xlabel(\"Experience\")\n",
        "plt.ylabel(\"Salary\")\n",
        "plt.show()"
      ],
      "execution_count": 16,
      "outputs": [
        {
          "output_type": "display_data",
          "data": {
            "image/png": "[encoded data removed]",
            "text/plain": [
              "<Figure size 432x288 with 1 Axes>"
            ]
          },
          "metadata": {
            "tags": [],
            "needs_background": "light"
          }
        }
      ]
    },
    {
      "cell_type": "code",
      "metadata": {
        "colab": {
          "base_uri": "https://localhost:8080/"
        },
        "id": "IyxOUwASV-jY",
        "outputId": "ba2f059c-2bde-40c9-a7ed-0f7e1cb1bd6a"
      },
      "source": [
        "#Predicting test set results\n",
        "\n",
        "y_pred = slr.predict(x_test)\n",
        "y_pred"
      ],
      "execution_count": 13,
      "outputs": [
        {
          "output_type": "execute_result",
          "data": {
            "text/plain": [
              "array([ 93047.5133468 , 115798.13905577,  63661.28847271,  44702.43371523,\n",
              "       125277.56643451,  82620.14323018,  63661.28847271, 111058.4253664 ,\n",
              "        62713.34573483,  36170.94907436])"
            ]
          },
          "metadata": {
            "tags": []
          },
          "execution_count": 13
        }
      ]
    },
    {
      "cell_type": "code",
      "metadata": {
        "colab": {
          "base_uri": "https://localhost:8080/"
        },
        "id": "bhSmIXzqYErN",
        "outputId": "432ca917-ca72-4389-83f5-b701f455ce4d"
      },
      "source": [
        "print(slr.predict([[6.5]]))"
      ],
      "execution_count": 17,
      "outputs": [
        {
          "output_type": "stream",
          "text": [
            "[87359.85691955]\n"
          ],
          "name": "stdout"
        }
      ]
    },
    {
      "cell_type": "code",
      "metadata": {
        "colab": {
          "base_uri": "https://localhost:8080/"
        },
        "id": "jt2I9lkCZ-tC",
        "outputId": "d8a7b55f-577f-47b4-be7e-fffda77059b7"
      },
      "source": [
        "print(slr.predict([[15.5]]))"
      ],
      "execution_count": 18,
      "outputs": [
        {
          "output_type": "stream",
          "text": [
            "[172674.70332821]\n"
          ],
          "name": "stdout"
        }
      ]
    }
  ]
}